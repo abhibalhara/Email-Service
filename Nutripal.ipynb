{
  "nbformat": 4,
  "nbformat_minor": 0,
  "metadata": {
    "colab": {
      "name": "Nutripal.ipynb",
      "provenance": [],
      "collapsed_sections": []
    },
    "kernelspec": {
      "name": "python3",
      "display_name": "Python 3"
    }
  },
  "cells": [
    {
      "cell_type": "code",
      "metadata": {
        "colab": {
          "base_uri": "https://localhost:8080/"
        },
        "id": "HfEn4H0TWDC9",
        "outputId": "602d7795-324f-40e0-ede4-74c1fff9afc3"
      },
      "source": [
        "!pip install boto3\r\n",
        "import boto3\r\n",
        "from botocore.exceptions import ClientError\r\n",
        "import requests\r\n",
        "!mkdir -p ~/.aws\r\n",
        "!cp -r /content/drive/MyDrive/credentials.aws ~/.aws/credentials\r\n",
        "# you have to give address of your credentials here\r\n",
        "\r\n",
        "class Mail_input():\r\n",
        " def __init__(self,SENDER,RECIPIENT,SUBJECT,MESSAGE):\r\n",
        "    self.SENDER = SENDER\r\n",
        "    self.RECIPIENT = RECIPIENT\r\n",
        "    self.SUBJECT = SUBJECT\r\n",
        "    self.MESSAGE = MESSAGE\r\n",
        "\r\n",
        "class Mail_by_aws():\r\n",
        "    def send_by_aws(self,input):\r\n",
        "      SUBJECT = input.SUBJECT\r\n",
        "      BODY_TEXT = input.MESSAGE\r\n",
        "      AWS_REGION = \"us-west-2\"\r\n",
        "      BODY_HTML = \"\"\"<html>\r\n",
        "      <head></head>\r\n",
        "      <body>\r\n",
        "        <h1> Dear sir/mam, </h1>\r\n",
        "        <p>\"\"\"+input.MESSAGE +\"\"\"</p>\r\n",
        "      </body>\r\n",
        "      </html>\r\n",
        "                  \"\"\"   \r\n",
        "      CHARSET = \"UTF-8\"\r\n",
        "      client = boto3.client('ses',region_name=AWS_REGION)\r\n",
        "      try:\r\n",
        "          response = client.send_email(\r\n",
        "              Destination={\r\n",
        "                  'ToAddresses': [\r\n",
        "                      input.RECIPIENT,\r\n",
        "                  ],\r\n",
        "              },\r\n",
        "              Message={\r\n",
        "                  'Body': {\r\n",
        "                      'Html': {\r\n",
        "                          'Charset': CHARSET,\r\n",
        "                          'Data': BODY_HTML,\r\n",
        "                      },\r\n",
        "                      'Text': {\r\n",
        "                          'Charset': CHARSET,\r\n",
        "                          'Data': BODY_TEXT,\r\n",
        "                      },\r\n",
        "                  },\r\n",
        "                  'Subject': {\r\n",
        "                      'Charset': CHARSET,\r\n",
        "                      'Data': SUBJECT,\r\n",
        "                  },\r\n",
        "              },\r\n",
        "              Source=input.SENDER,\r\n",
        "          )\r\n",
        "      except ClientError as e:\r\n",
        "          print(e.response['Error']['Message'])\r\n",
        "          return False\r\n",
        "      else:\r\n",
        "          print(\"Email sent by aws!\"),\r\n",
        "          return True\r\n",
        "\r\n",
        "class Mail_by_mailgun():\r\n",
        "  def send_by_mailgun(self,input):\r\n",
        "    try:\r\n",
        "      requests.post(\r\n",
        "\t\t\"https://api.mailgun.net/v3/sandboxb394f4b64064408590c007d8a22b7a5e.mailgun.org/messages\",\r\n",
        "\t\tauth=(\"api\", \"6147721b50313bc0b38d4e77b8128b86-b6190e87-3696eec0\"),\r\n",
        "\t\tdata={\r\n",
        "      \"from\": \"mailgun@sandboxb394f4b64064408590c007d8a22b7a5e.mailgun.org\",\r\n",
        "\t\t\t\"to\": [input.RECIPIENT],\r\n",
        "\t\t\t\"subject\": input.SUBJECT,\r\n",
        "\t\t\t\"text\": input.MESSAGE})\r\n",
        "    except ClientError as e:\r\n",
        "          print(e.response['Error']['Message'])\r\n",
        "          return False\r\n",
        "    else:\r\n",
        "          return True\r\n",
        "\r\n",
        "class Mail_sender(Mail_by_aws,Mail_by_mailgun):\r\n",
        "  pass\r\n",
        "\r\n",
        "def send_mail(input):\r\n",
        "  mail = Mail_sender()\r\n",
        "  if mail.send_by_aws(input) == False:\r\n",
        "    if mail.send_by_mailgun(input) == False:\r\n",
        "      return False\r\n",
        "    else:\r\n",
        "      print(\"Email sent successfully.\")\r\n",
        "      return True\r\n",
        "  else:\r\n",
        "    print(\"Email sent successfully.\")\r\n",
        "    return True\r\n",
        "\r\n",
        "input = Mail_input('2017eeb1121@iitrpr.ac.in','2017eeb1121@iitrpr.ac.in','About mail service','This mail is sent by AWS or Mailgun')\r\n",
        "#we take input as list of 4 paramenter as string\r\n",
        "# sender email id\r\n",
        "# reciver email id\r\n",
        "# Subject of email\r\n",
        "# message in email\r\n",
        "send_mail(input)\r\n"
      ],
      "execution_count": 5,
      "outputs": [
        {
          "output_type": "stream",
          "text": [
            "Requirement already satisfied: boto3 in /usr/local/lib/python3.6/dist-packages (1.16.43)\n",
            "Requirement already satisfied: botocore<1.20.0,>=1.19.43 in /usr/local/lib/python3.6/dist-packages (from boto3) (1.19.43)\n",
            "Requirement already satisfied: jmespath<1.0.0,>=0.7.1 in /usr/local/lib/python3.6/dist-packages (from boto3) (0.10.0)\n",
            "Requirement already satisfied: s3transfer<0.4.0,>=0.3.0 in /usr/local/lib/python3.6/dist-packages (from boto3) (0.3.3)\n",
            "Requirement already satisfied: python-dateutil<3.0.0,>=2.1 in /usr/local/lib/python3.6/dist-packages (from botocore<1.20.0,>=1.19.43->boto3) (2.8.1)\n",
            "Requirement already satisfied: urllib3<1.27,>=1.25.4; python_version != \"3.4\" in /usr/local/lib/python3.6/dist-packages (from botocore<1.20.0,>=1.19.43->boto3) (1.26.2)\n",
            "Requirement already satisfied: six>=1.5 in /usr/local/lib/python3.6/dist-packages (from python-dateutil<3.0.0,>=2.1->botocore<1.20.0,>=1.19.43->boto3) (1.15.0)\n",
            "Email sent by aws!\n",
            "Email sent successfully.\n"
          ],
          "name": "stdout"
        },
        {
          "output_type": "execute_result",
          "data": {
            "text/plain": [
              "True"
            ]
          },
          "metadata": {
            "tags": []
          },
          "execution_count": 5
        }
      ]
    }
  ]
}